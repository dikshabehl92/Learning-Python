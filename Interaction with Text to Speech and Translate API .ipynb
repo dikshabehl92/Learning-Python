{
 "cells": [
  {
   "cell_type": "markdown",
   "metadata": {},
   "source": [
    "<h1>Interacting with Text to Speech and Translate API </h1>\n",
    "<p>In this lab, you will learn to convert an audio file of an English speaker to text using a Speech to Text API. Then you will translate the English version to a Spanish version using a Language Translator API. <b>Note:</b> You must obtain the API keys and enpoints to complete the lab.</p>\n"
   ]
  },
  {
   "cell_type": "markdown",
   "metadata": {},
   "source": [
    "<div class=\"alert alert-block alert-info\" style=\"margin-top: 20px\">\n",
    "<h2>Table of Contents</h2>\n",
    "<ul>\n",
    "    <li><a href=\"#ref0\">Speech To Text</a></li>\n",
    "    <li><a href=\"#ref1\">Language Translator</a></li>\n",
    "    <li><a href=\"#ref2\">Exercise</a></li>\n",
    "</ul>\n",
    "<br>\n",
    "<p>Estimated Time Needed: <strong>25 min</strong></p>\n",
    "</div>"
   ]
  },
  {
   "cell_type": "code",
   "execution_count": 1,
   "metadata": {
    "jupyter": {
     "outputs_hidden": false
    }
   },
   "outputs": [
    {
     "name": "stdout",
     "output_type": "stream",
     "text": [
      "Requirement already satisfied: ibm_watson in c:\\programdata\\anaconda3\\lib\\site-packages (4.4.0)\n",
      "Requirement already satisfied: wget in c:\\programdata\\anaconda3\\lib\\site-packages (3.2)\n",
      "Requirement already satisfied: python-dateutil>=2.5.3 in c:\\programdata\\anaconda3\\lib\\site-packages (from ibm_watson) (2.8.1)\n",
      "Requirement already satisfied: ibm-cloud-sdk-core==1.5.1 in c:\\programdata\\anaconda3\\lib\\site-packages (from ibm_watson) (1.5.1)\n",
      "Requirement already satisfied: requests<3.0,>=2.0 in c:\\programdata\\anaconda3\\lib\\site-packages (from ibm_watson) (2.22.0)\n",
      "Requirement already satisfied: websocket-client==0.48.0 in c:\\programdata\\anaconda3\\lib\\site-packages (from ibm_watson) (0.48.0)\n",
      "Requirement already satisfied: six>=1.5 in c:\\programdata\\anaconda3\\lib\\site-packages (from python-dateutil>=2.5.3->ibm_watson) (1.14.0)\n",
      "Requirement already satisfied: PyJWT>=1.7.1 in c:\\programdata\\anaconda3\\lib\\site-packages (from ibm-cloud-sdk-core==1.5.1->ibm_watson) (1.7.1)\n",
      "Requirement already satisfied: certifi>=2017.4.17 in c:\\programdata\\anaconda3\\lib\\site-packages (from requests<3.0,>=2.0->ibm_watson) (2019.11.28)\n",
      "Requirement already satisfied: chardet<3.1.0,>=3.0.2 in c:\\programdata\\anaconda3\\lib\\site-packages (from requests<3.0,>=2.0->ibm_watson) (3.0.4)\n",
      "Requirement already satisfied: urllib3!=1.25.0,!=1.25.1,<1.26,>=1.21.1 in c:\\programdata\\anaconda3\\lib\\site-packages (from requests<3.0,>=2.0->ibm_watson) (1.25.8)\n",
      "Requirement already satisfied: idna<2.9,>=2.5 in c:\\programdata\\anaconda3\\lib\\site-packages (from requests<3.0,>=2.0->ibm_watson) (2.8)\n"
     ]
    }
   ],
   "source": [
    "#you will need the following library \n",
    "!pip install ibm_watson wget"
   ]
  },
  {
   "cell_type": "markdown",
   "metadata": {},
   "source": [
    "<h2 id=\"ref0\">Speech to Text</h2>"
   ]
  },
  {
   "cell_type": "markdown",
   "metadata": {},
   "source": [
    "<p>First we import <code>SpeechToTextV1</code> from <code>ibm_watson</code>.For more information on the API, please click on this <a href=\"https://cloud.ibm.com/apidocs/speech-to-text?code=python\">link</a></p>"
   ]
  },
  {
   "cell_type": "code",
   "execution_count": 2,
   "metadata": {
    "jupyter": {
     "outputs_hidden": false
    }
   },
   "outputs": [],
   "source": [
    "from ibm_watson import SpeechToTextV1 \n",
    "import json\n",
    "from ibm_cloud_sdk_core.authenticators import IAMAuthenticator"
   ]
  },
  {
   "cell_type": "markdown",
   "metadata": {},
   "source": [
    "<p>The service endpoint is based on the location of the service instance, we store the information in the variable URL. To find out which URL to use, view the service credentials.</p>"
   ]
  },
  {
   "cell_type": "code",
   "execution_count": 3,
   "metadata": {},
   "outputs": [],
   "source": [
    "url_s2t = \"https://api.us-south.speech-to-text.watson.cloud.ibm.com/instances/de672c52-fa64-4052-897f-951ff25a990d\""
   ]
  },
  {
   "cell_type": "markdown",
   "metadata": {},
   "source": [
    "<p>You require an API key, and you can obtain the key on the <a href=\"https://cloud.ibm.com/resources\">Dashboard </a>.</p>"
   ]
  },
  {
   "cell_type": "code",
   "execution_count": 4,
   "metadata": {
    "jupyter": {
     "outputs_hidden": false
    }
   },
   "outputs": [],
   "source": [
    "iam_apikey_s2t = \"sw6PnTRh7af7ZxA6Y2047Kwdu7vfvhDSzA0A7GjhfWaD\""
   ]
  },
  {
   "cell_type": "markdown",
   "metadata": {},
   "source": [
    "<p>You create a <a href=\"http://watson-developer-cloud.github.io/python-sdk/v0.25.0/apis/watson_developer_cloud.speech_to_text_v1.html\">Speech To Text Adapter object</a> the parameters are the  endpoint and API key.</p>"
   ]
  },
  {
   "cell_type": "code",
   "execution_count": 5,
   "metadata": {
    "scrolled": true
   },
   "outputs": [
    {
     "data": {
      "text/plain": [
       "<ibm_watson.speech_to_text_v1_adapter.SpeechToTextV1Adapter at 0x21fa523df48>"
      ]
     },
     "execution_count": 5,
     "metadata": {},
     "output_type": "execute_result"
    }
   ],
   "source": [
    "authenticator = IAMAuthenticator(iam_apikey_s2t)\n",
    "s2t = SpeechToTextV1(authenticator=authenticator)\n",
    "s2t.set_service_url(url_s2t)\n",
    "s2t"
   ]
  },
  {
   "cell_type": "markdown",
   "metadata": {},
   "source": [
    "<p>Lets download the audio file that we will use to convert into text.</p>"
   ]
  },
  {
   "cell_type": "code",
   "execution_count": 9,
   "metadata": {},
   "outputs": [],
   "source": [
    "import urllib.request\n",
    "\n",
    "url = 'https://s3-api.us-geo.objectstorage.softlayer.net/cf-courses-data/CognitiveClass/PY0101EN/labs/PolynomialRegressionandPipelines.mp3'\n"
   ]
  },
  {
   "cell_type": "markdown",
   "metadata": {},
   "source": [
    "<p>We have the path of the wav file we would like to convert to text</p>"
   ]
  },
  {
   "cell_type": "code",
   "execution_count": 10,
   "metadata": {
    "jupyter": {
     "outputs_hidden": false
    }
   },
   "outputs": [
    {
     "data": {
      "text/plain": [
       "('PolynomialRegressionandPipelines.mp3',\n",
       " <http.client.HTTPMessage at 0x21fa7302e48>)"
      ]
     },
     "execution_count": 10,
     "metadata": {},
     "output_type": "execute_result"
    }
   ],
   "source": [
    "file_name = 'PolynomialRegressionandPipelines.mp3'\n",
    "\n",
    "urllib.request.urlretrieve(url, file_name)"
   ]
  },
  {
   "cell_type": "markdown",
   "metadata": {},
   "source": [
    "<p>We create the file object <code>wav</code> with the wav file using  <code>open</code> ; we set the <code>mode</code> to  \"rb\" ,  this is similar to read mode, but it ensures the file is in binary mode.We use the method <code>recognize</code> to return the recognized text. The parameter audio is the file object <code>wav</code>, the parameter <code>content_type</code> is the format of the audio file.</p>"
   ]
  },
  {
   "cell_type": "code",
   "execution_count": 11,
   "metadata": {
    "jupyter": {
     "outputs_hidden": false
    }
   },
   "outputs": [],
   "source": [
    "with open(filename, mode=\"rb\")  as wav:\n",
    "    response = s2t.recognize(audio=wav, content_type='audio/mp3')"
   ]
  },
  {
   "cell_type": "markdown",
   "metadata": {},
   "source": [
    "<p>The attribute result contains a dictionary that includes the translation:</p>"
   ]
  },
  {
   "cell_type": "code",
   "execution_count": 12,
   "metadata": {},
   "outputs": [
    {
     "data": {
      "text/plain": [
       "{'results': [{'alternatives': [{'confidence': 0.94,\n",
       "     'transcript': 'in this video we will cover polynomial regression and pipelines '}],\n",
       "   'final': True},\n",
       "  {'alternatives': [{'confidence': 0.9,\n",
       "     'transcript': \"what do we do when a linear model is not the best fit for our data let's look into another type of regression model the polynomial regression we transform our data into a polynomial then use linear regression to fit the parameters that we will discuss pipelines pipelines are way to simplify your code \"}],\n",
       "   'final': True},\n",
       "  {'alternatives': [{'confidence': 0.95,\n",
       "     'transcript': \"polynomial regression is a special case of the general linear regression this method is beneficial for describing curvilinear relationships what is a curvilinear relationship it's what you get by squaring or setting higher order terms of the predictor variables in the model transforming the data the model can be quadratic which means the predictor variable in the model is squared we use a bracket to indicated as an exponent this is the second order polynomial regression with a figure representing the function \"}],\n",
       "   'final': True},\n",
       "  {'alternatives': [{'confidence': 0.95,\n",
       "     'transcript': 'the model can be cubic which means the predictor variable is cute this is the third order polynomial regression we see by examining the figure that the function has more variation '}],\n",
       "   'final': True},\n",
       "  {'alternatives': [{'confidence': 0.91,\n",
       "     'transcript': \"there also exists higher order polynomial regressions when a good fit hasn't been achieved by second or third order we can see in figures how much the graphs change when we change the order of the polynomial regression the degree of the regression makes a big difference and can result in a better fit if you pick the right value in all cases the relationship between the variable in the parameter is always linear \"}],\n",
       "   'final': True},\n",
       "  {'alternatives': [{'confidence': 0.89,\n",
       "     'transcript': \"let's look at an example from our data we generate a polynomial regression model \"}],\n",
       "   'final': True},\n",
       "  {'alternatives': [{'confidence': 0.92,\n",
       "     'transcript': 'in python we do this by using the poly fit function in this example we develop a third order polynomial regression model base we can print out the model symbolic form for the model is given by the following expression '}],\n",
       "   'final': True},\n",
       "  {'alternatives': [{'confidence': 0.9,\n",
       "     'transcript': \"negative one point five five seven X. one cute plus two hundred four point eight X. one squared plus eight thousand nine hundred sixty five X. one plus one point three seven times ten to the power of five we can also have multi dimensional polynomial linear regression the expression can get complicated here are just some of the terms for two dimensional second order polynomial none pies poly fit function cannot perform this type of regression we use the preprocessing librarian scikit learn to create a polynomial feature object the constructor takes the degree of the polynomial as a parameter then we transform the features into a polynomial feature with the fit underscore transform method let's do a more intuitive example \"}],\n",
       "   'final': True},\n",
       "  {'alternatives': [{'confidence': 0.9,\n",
       "     'transcript': 'consider the feature shown here applying the method we transform the data we now have a new set of features that are transformed version of our original features as that I mention of the data gets larger we may want to normalize multiple features as scikit learn instead we can use the preprocessing module to simplify many tasks for example we can standardize each feature simultaneously we import standard scaler we train the object fit the scale object then transform the data into a new data frame on a rate X. underscore scale there are more normalization methods available in the pre processing library as well as other transformations we can simplify our code by using a pipeline library there are many steps to getting a prediction for example normalization polynomial transform and linear regression we simplify the process using a pipeline '}],\n",
       "   'final': True},\n",
       "  {'alternatives': [{'confidence': 0.89,\n",
       "     'transcript': 'pipeline sequentially perform a series of transformations the last step carries out a prediction first we import all the modules we need then we import the library pipeline we create a list of topples the first element in the topple contains the name of the estimator model the second element contains model constructor we input the list in the pipeline constructor we now have a pipeline object we can train the pipeline by applying the train method to the pipeline object we can also produce a prediction as well '}],\n",
       "   'final': True},\n",
       "  {'alternatives': [{'confidence': 0.89,\n",
       "     'transcript': 'the method normalizes the data performs a polynomial transform then outputs a prediction '}],\n",
       "   'final': True}],\n",
       " 'result_index': 0}"
      ]
     },
     "execution_count": 12,
     "metadata": {},
     "output_type": "execute_result"
    }
   ],
   "source": [
    "response.result"
   ]
  },
  {
   "cell_type": "code",
   "execution_count": 13,
   "metadata": {},
   "outputs": [
    {
     "data": {
      "text/plain": [
       "dict"
      ]
     },
     "execution_count": 13,
     "metadata": {},
     "output_type": "execute_result"
    }
   ],
   "source": [
    "type(response.result)"
   ]
  },
  {
   "cell_type": "code",
   "execution_count": 14,
   "metadata": {},
   "outputs": [
    {
     "data": {
      "text/html": [
       "<div>\n",
       "<style scoped>\n",
       "    .dataframe tbody tr th:only-of-type {\n",
       "        vertical-align: middle;\n",
       "    }\n",
       "\n",
       "    .dataframe tbody tr th {\n",
       "        vertical-align: top;\n",
       "    }\n",
       "\n",
       "    .dataframe thead th {\n",
       "        text-align: right;\n",
       "    }\n",
       "</style>\n",
       "<table border=\"1\" class=\"dataframe\">\n",
       "  <thead>\n",
       "    <tr style=\"text-align: right;\">\n",
       "      <th></th>\n",
       "      <th>confidence</th>\n",
       "      <th>transcript</th>\n",
       "    </tr>\n",
       "  </thead>\n",
       "  <tbody>\n",
       "    <tr>\n",
       "      <th>0</th>\n",
       "      <td>0.94</td>\n",
       "      <td>in this video we will cover polynomial regress...</td>\n",
       "    </tr>\n",
       "    <tr>\n",
       "      <th>1</th>\n",
       "      <td>0.90</td>\n",
       "      <td>what do we do when a linear model is not the b...</td>\n",
       "    </tr>\n",
       "    <tr>\n",
       "      <th>2</th>\n",
       "      <td>0.95</td>\n",
       "      <td>polynomial regression is a special case of the...</td>\n",
       "    </tr>\n",
       "    <tr>\n",
       "      <th>3</th>\n",
       "      <td>0.95</td>\n",
       "      <td>the model can be cubic which means the predict...</td>\n",
       "    </tr>\n",
       "    <tr>\n",
       "      <th>4</th>\n",
       "      <td>0.91</td>\n",
       "      <td>there also exists higher order polynomial regr...</td>\n",
       "    </tr>\n",
       "    <tr>\n",
       "      <th>5</th>\n",
       "      <td>0.89</td>\n",
       "      <td>let's look at an example from our data we gene...</td>\n",
       "    </tr>\n",
       "    <tr>\n",
       "      <th>6</th>\n",
       "      <td>0.92</td>\n",
       "      <td>in python we do this by using the poly fit fun...</td>\n",
       "    </tr>\n",
       "    <tr>\n",
       "      <th>7</th>\n",
       "      <td>0.90</td>\n",
       "      <td>negative one point five five seven X. one cute...</td>\n",
       "    </tr>\n",
       "    <tr>\n",
       "      <th>8</th>\n",
       "      <td>0.90</td>\n",
       "      <td>consider the feature shown here applying the m...</td>\n",
       "    </tr>\n",
       "    <tr>\n",
       "      <th>9</th>\n",
       "      <td>0.89</td>\n",
       "      <td>pipeline sequentially perform a series of tran...</td>\n",
       "    </tr>\n",
       "    <tr>\n",
       "      <th>10</th>\n",
       "      <td>0.89</td>\n",
       "      <td>the method normalizes the data performs a poly...</td>\n",
       "    </tr>\n",
       "  </tbody>\n",
       "</table>\n",
       "</div>"
      ],
      "text/plain": [
       "    confidence                                         transcript\n",
       "0         0.94  in this video we will cover polynomial regress...\n",
       "1         0.90  what do we do when a linear model is not the b...\n",
       "2         0.95  polynomial regression is a special case of the...\n",
       "3         0.95  the model can be cubic which means the predict...\n",
       "4         0.91  there also exists higher order polynomial regr...\n",
       "5         0.89  let's look at an example from our data we gene...\n",
       "6         0.92  in python we do this by using the poly fit fun...\n",
       "7         0.90  negative one point five five seven X. one cute...\n",
       "8         0.90  consider the feature shown here applying the m...\n",
       "9         0.89  pipeline sequentially perform a series of tran...\n",
       "10        0.89  the method normalizes the data performs a poly..."
      ]
     },
     "execution_count": 14,
     "metadata": {},
     "output_type": "execute_result"
    }
   ],
   "source": [
    "from pandas import json_normalize\n",
    "json_normalize(response.result['results'],\"alternatives\")\n"
   ]
  },
  {
   "cell_type": "markdown",
   "metadata": {},
   "source": [
    "I tried 2 approaches to handle the response file-\n",
    "1. Using DataFrame (converting response.result in a DF)\n",
    "2. Using Dictionary (response.result)"
   ]
  },
  {
   "cell_type": "markdown",
   "metadata": {},
   "source": [
    "<h4>Using DataFrame as input</h4>"
   ]
  },
  {
   "cell_type": "code",
   "execution_count": 15,
   "metadata": {},
   "outputs": [
    {
     "data": {
      "text/plain": [
       "pandas.core.frame.DataFrame"
      ]
     },
     "execution_count": 15,
     "metadata": {},
     "output_type": "execute_result"
    }
   ],
   "source": [
    "text_normal =json_normalize(response.result['results'],\"alternatives\")\n",
    "type(text_normal)"
   ]
  },
  {
   "cell_type": "code",
   "execution_count": 16,
   "metadata": {},
   "outputs": [
    {
     "data": {
      "text/plain": [
       "\"in this video we will cover polynomial regression and pipelines what do we do when a linear model is not the best fit for our data let's look into another type of regression model the polynomial regression we transform our data into a polynomial then use linear regression to fit the parameters that we will discuss pipelines pipelines are way to simplify your code polynomial regression is a special case of the general linear regression this method is beneficial for describing curvilinear relationships what is a curvilinear relationship it's what you get by squaring or setting higher order terms of the predictor variables in the model transforming the data the model can be quadratic which means the predictor variable in the model is squared we use a bracket to indicated as an exponent this is the second order polynomial regression with a figure representing the function the model can be cubic which means the predictor variable is cute this is the third order polynomial regression we see by examining the figure that the function has more variation there also exists higher order polynomial regressions when a good fit hasn't been achieved by second or third order we can see in figures how much the graphs change when we change the order of the polynomial regression the degree of the regression makes a big difference and can result in a better fit if you pick the right value in all cases the relationship between the variable in the parameter is always linear let's look at an example from our data we generate a polynomial regression model in python we do this by using the poly fit function in this example we develop a third order polynomial regression model base we can print out the model symbolic form for the model is given by the following expression negative one point five five seven X. one cute plus two hundred four point eight X. one squared plus eight thousand nine hundred sixty five X. one plus one point three seven times ten to the power of five we can also have multi dimensional polynomial linear regression the expression can get complicated here are just some of the terms for two dimensional second order polynomial none pies poly fit function cannot perform this type of regression we use the preprocessing librarian scikit learn to create a polynomial feature object the constructor takes the degree of the polynomial as a parameter then we transform the features into a polynomial feature with the fit underscore transform method let's do a more intuitive example consider the feature shown here applying the method we transform the data we now have a new set of features that are transformed version of our original features as that I mention of the data gets larger we may want to normalize multiple features as scikit learn instead we can use the preprocessing module to simplify many tasks for example we can standardize each feature simultaneously we import standard scaler we train the object fit the scale object then transform the data into a new data frame on a rate X. underscore scale there are more normalization methods available in the pre processing library as well as other transformations we can simplify our code by using a pipeline library there are many steps to getting a prediction for example normalization polynomial transform and linear regression we simplify the process using a pipeline pipeline sequentially perform a series of transformations the last step carries out a prediction first we import all the modules we need then we import the library pipeline we create a list of topples the first element in the topple contains the name of the estimator model the second element contains model constructor we input the list in the pipeline constructor we now have a pipeline object we can train the pipeline by applying the train method to the pipeline object we can also produce a prediction as well \""
      ]
     },
     "execution_count": 16,
     "metadata": {},
     "output_type": "execute_result"
    }
   ],
   "source": [
    "actual_text = text_normal.loc[0,'transcript']\n",
    "for i in range(1,10):\n",
    "    actual_text = actual_text+text_normal.loc[i,'transcript']\n",
    "actual_text"
   ]
  },
  {
   "cell_type": "markdown",
   "metadata": {},
   "source": [
    "<p>We can obtain the recognized text and assign it to the variable <code>recognized_text</code>:</p>"
   ]
  },
  {
   "cell_type": "markdown",
   "metadata": {},
   "source": [
    "<h4> Using Dictionary (response.result) as input</h4>"
   ]
  },
  {
   "cell_type": "code",
   "execution_count": 17,
   "metadata": {
    "jupyter": {
     "outputs_hidden": false
    }
   },
   "outputs": [
    {
     "data": {
      "text/plain": [
       "\"in this video we will cover polynomial regression and pipelines what do we do when a linear model is not the best fit for our data let's look into another type of regression model the polynomial regression we transform our data into a polynomial then use linear regression to fit the parameters that we will discuss pipelines pipelines are way to simplify your code polynomial regression is a special case of the general linear regression this method is beneficial for describing curvilinear relationships what is a curvilinear relationship it's what you get by squaring or setting higher order terms of the predictor variables in the model transforming the data the model can be quadratic which means the predictor variable in the model is squared we use a bracket to indicated as an exponent this is the second order polynomial regression with a figure representing the function the model can be cubic which means the predictor variable is cute this is the third order polynomial regression we see by examining the figure that the function has more variation there also exists higher order polynomial regressions when a good fit hasn't been achieved by second or third order we can see in figures how much the graphs change when we change the order of the polynomial regression the degree of the regression makes a big difference and can result in a better fit if you pick the right value in all cases the relationship between the variable in the parameter is always linear let's look at an example from our data we generate a polynomial regression model in python we do this by using the poly fit function in this example we develop a third order polynomial regression model base we can print out the model symbolic form for the model is given by the following expression negative one point five five seven X. one cute plus two hundred four point eight X. one squared plus eight thousand nine hundred sixty five X. one plus one point three seven times ten to the power of five we can also have multi dimensional polynomial linear regression the expression can get complicated here are just some of the terms for two dimensional second order polynomial none pies poly fit function cannot perform this type of regression we use the preprocessing librarian scikit learn to create a polynomial feature object the constructor takes the degree of the polynomial as a parameter then we transform the features into a polynomial feature with the fit underscore transform method let's do a more intuitive example consider the feature shown here applying the method we transform the data we now have a new set of features that are transformed version of our original features as that I mention of the data gets larger we may want to normalize multiple features as scikit learn instead we can use the preprocessing module to simplify many tasks for example we can standardize each feature simultaneously we import standard scaler we train the object fit the scale object then transform the data into a new data frame on a rate X. underscore scale there are more normalization methods available in the pre processing library as well as other transformations we can simplify our code by using a pipeline library there are many steps to getting a prediction for example normalization polynomial transform and linear regression we simplify the process using a pipeline pipeline sequentially perform a series of transformations the last step carries out a prediction first we import all the modules we need then we import the library pipeline we create a list of topples the first element in the topple contains the name of the estimator model the second element contains model constructor we input the list in the pipeline constructor we now have a pipeline object we can train the pipeline by applying the train method to the pipeline object we can also produce a prediction as well \""
      ]
     },
     "execution_count": 17,
     "metadata": {},
     "output_type": "execute_result"
    }
   ],
   "source": [
    "recognized_text=response.result['results'][0][\"alternatives\"][0][\"transcript\"]\n",
    "for i in range(1,10):\n",
    "    recognized_text=recognized_text+response.result['results'][i][\"alternatives\"][0][\"transcript\"]\n",
    "recognized_text\n"
   ]
  },
  {
   "cell_type": "code",
   "execution_count": 18,
   "metadata": {},
   "outputs": [
    {
     "data": {
      "text/plain": [
       "str"
      ]
     },
     "execution_count": 18,
     "metadata": {},
     "output_type": "execute_result"
    }
   ],
   "source": [
    "type(recognized_text)"
   ]
  },
  {
   "cell_type": "markdown",
   "metadata": {},
   "source": [
    "<h2 id=\"ref1\">Language Translator</h2>"
   ]
  },
  {
   "cell_type": "markdown",
   "metadata": {},
   "source": [
    "<p>First we import <code>LanguageTranslatorV3</code> from ibm_watson. For more information on the API click <a href=\"https://cloud.ibm.com/apidocs/speech-to-text?code=python\"> here</a></p>"
   ]
  },
  {
   "cell_type": "code",
   "execution_count": 19,
   "metadata": {},
   "outputs": [],
   "source": [
    "from ibm_watson import LanguageTranslatorV3"
   ]
  },
  {
   "cell_type": "markdown",
   "metadata": {},
   "source": [
    "<p>The service endpoint is based on the location of the service instance, we store the information in the variable URL. To find out which URL to use, view the service credentials.</p>"
   ]
  },
  {
   "cell_type": "code",
   "execution_count": 20,
   "metadata": {
    "jupyter": {
     "outputs_hidden": false
    }
   },
   "outputs": [],
   "source": [
    "url_lt='https://api.us-south.language-translator.watson.cloud.ibm.com/instances/8b3f8964-c924-4e73-90a3-c6ec1c8bf041'"
   ]
  },
  {
   "cell_type": "markdown",
   "metadata": {},
   "source": [
    "<p>You require an API key, and you can obtain the key on the <a href=\"https://cloud.ibm.com/resources\">Dashboard</a>.</p>"
   ]
  },
  {
   "cell_type": "code",
   "execution_count": 21,
   "metadata": {
    "jupyter": {
     "outputs_hidden": false
    }
   },
   "outputs": [],
   "source": [
    "apikey_lt='hqSnYlYHrtpJZy35rB5_tPVOV72UtQnpVoyIBiyEDm9Z'"
   ]
  },
  {
   "cell_type": "markdown",
   "metadata": {},
   "source": [
    "<p>API requests require a version parameter that takes a date in the format version=YYYY-MM-DD. This lab describes the current version of Language Translator, 2018-05-01</p>"
   ]
  },
  {
   "cell_type": "code",
   "execution_count": 22,
   "metadata": {
    "jupyter": {
     "outputs_hidden": false
    }
   },
   "outputs": [],
   "source": [
    "version_lt='2018-05-01'"
   ]
  },
  {
   "cell_type": "markdown",
   "metadata": {},
   "source": [
    "<p>we create a  Language Translator object <code>language_translator</code>:</p>"
   ]
  },
  {
   "cell_type": "code",
   "execution_count": 23,
   "metadata": {
    "jupyter": {
     "outputs_hidden": false
    }
   },
   "outputs": [
    {
     "data": {
      "text/plain": [
       "<ibm_watson.language_translator_v3.LanguageTranslatorV3 at 0x21fa81ed1c8>"
      ]
     },
     "execution_count": 23,
     "metadata": {},
     "output_type": "execute_result"
    }
   ],
   "source": [
    "authenticator = IAMAuthenticator(apikey_lt)\n",
    "language_translator = LanguageTranslatorV3(version=version_lt,authenticator=authenticator)\n",
    "language_translator.set_service_url(url_lt)\n",
    "language_translator"
   ]
  },
  {
   "cell_type": "markdown",
   "metadata": {},
   "source": [
    "<p>We can get a Lists the languages that the service can identify.\n",
    "The method Returns the language code.  For example English (en) to  Spanis (es) and name of each language.</p>"
   ]
  },
  {
   "cell_type": "code",
   "execution_count": 24,
   "metadata": {
    "jupyter": {
     "outputs_hidden": false
    }
   },
   "outputs": [
    {
     "data": {
      "text/html": [
       "<div>\n",
       "<style scoped>\n",
       "    .dataframe tbody tr th:only-of-type {\n",
       "        vertical-align: middle;\n",
       "    }\n",
       "\n",
       "    .dataframe tbody tr th {\n",
       "        vertical-align: top;\n",
       "    }\n",
       "\n",
       "    .dataframe thead th {\n",
       "        text-align: right;\n",
       "    }\n",
       "</style>\n",
       "<table border=\"1\" class=\"dataframe\">\n",
       "  <thead>\n",
       "    <tr style=\"text-align: right;\">\n",
       "      <th></th>\n",
       "      <th>language</th>\n",
       "      <th>name</th>\n",
       "    </tr>\n",
       "  </thead>\n",
       "  <tbody>\n",
       "    <tr>\n",
       "      <th>0</th>\n",
       "      <td>af</td>\n",
       "      <td>Afrikaans</td>\n",
       "    </tr>\n",
       "    <tr>\n",
       "      <th>1</th>\n",
       "      <td>ar</td>\n",
       "      <td>Arabic</td>\n",
       "    </tr>\n",
       "    <tr>\n",
       "      <th>2</th>\n",
       "      <td>az</td>\n",
       "      <td>Azerbaijani</td>\n",
       "    </tr>\n",
       "    <tr>\n",
       "      <th>3</th>\n",
       "      <td>ba</td>\n",
       "      <td>Bashkir</td>\n",
       "    </tr>\n",
       "    <tr>\n",
       "      <th>4</th>\n",
       "      <td>be</td>\n",
       "      <td>Belarusian</td>\n",
       "    </tr>\n",
       "    <tr>\n",
       "      <th>...</th>\n",
       "      <td>...</td>\n",
       "      <td>...</td>\n",
       "    </tr>\n",
       "    <tr>\n",
       "      <th>70</th>\n",
       "      <td>uk</td>\n",
       "      <td>Ukrainian</td>\n",
       "    </tr>\n",
       "    <tr>\n",
       "      <th>71</th>\n",
       "      <td>ur</td>\n",
       "      <td>Urdu</td>\n",
       "    </tr>\n",
       "    <tr>\n",
       "      <th>72</th>\n",
       "      <td>vi</td>\n",
       "      <td>Vietnamese</td>\n",
       "    </tr>\n",
       "    <tr>\n",
       "      <th>73</th>\n",
       "      <td>zh</td>\n",
       "      <td>Simplified Chinese</td>\n",
       "    </tr>\n",
       "    <tr>\n",
       "      <th>74</th>\n",
       "      <td>zh-TW</td>\n",
       "      <td>Traditional Chinese</td>\n",
       "    </tr>\n",
       "  </tbody>\n",
       "</table>\n",
       "<p>75 rows × 2 columns</p>\n",
       "</div>"
      ],
      "text/plain": [
       "   language                 name\n",
       "0        af            Afrikaans\n",
       "1        ar               Arabic\n",
       "2        az          Azerbaijani\n",
       "3        ba              Bashkir\n",
       "4        be           Belarusian\n",
       "..      ...                  ...\n",
       "70       uk            Ukrainian\n",
       "71       ur                 Urdu\n",
       "72       vi           Vietnamese\n",
       "73       zh   Simplified Chinese\n",
       "74    zh-TW  Traditional Chinese\n",
       "\n",
       "[75 rows x 2 columns]"
      ]
     },
     "execution_count": 24,
     "metadata": {},
     "output_type": "execute_result"
    }
   ],
   "source": [
    "from pandas import json_normalize\n",
    "\n",
    "json_normalize(language_translator.list_identifiable_languages().get_result(), \"languages\")"
   ]
  },
  {
   "cell_type": "markdown",
   "metadata": {},
   "source": [
    "<p>We can use the method <code>translate</code> this will translate the text. The parameter text is the text. Model_id is the type of model we would like to use use we use list the the langwich . In this case, we set it to 'en-es' or English to Spanish. We get a Detailed Response object translation_response</p>"
   ]
  },
  {
   "cell_type": "code",
   "execution_count": 25,
   "metadata": {
    "jupyter": {
     "outputs_hidden": false
    }
   },
   "outputs": [
    {
     "data": {
      "text/plain": [
       "<ibm_cloud_sdk_core.detailed_response.DetailedResponse at 0x21fa81f3948>"
      ]
     },
     "execution_count": 25,
     "metadata": {},
     "output_type": "execute_result"
    }
   ],
   "source": [
    "translation_response = language_translator.translate(text=recognized_text, model_id='en-es')\n",
    "translation_response"
   ]
  },
  {
   "cell_type": "markdown",
   "metadata": {},
   "source": [
    "<p>The result is a dictionary.</p>"
   ]
  },
  {
   "cell_type": "code",
   "execution_count": 26,
   "metadata": {
    "jupyter": {
     "outputs_hidden": false
    }
   },
   "outputs": [
    {
     "data": {
      "text/plain": [
       "{'translations': [{'translation': 'en este video vamos a cubrir la regresión polinómica y los oleoductos, lo que hacemos cuando un modelo lineal no es el mejor ajuste para nuestros datos, examinemos otro tipo de regresión la regresión polinómica que transformamos nuestros datos en un polinomio entonces utilizar regresión lineal para ajustar los parámetros que vamos a discutir los oleoductos es la manera de simplificar su regresión polinómica de código es un caso especial de la regresión lineal general este método es beneficioso para describir las relaciones curvilinas qué es una relación curvilínea que es lo que obtienes al cuadrar o establecer el orden superior los términos de las variables predictoras en el modelo que transforman los datos el modelo puede ser cuadrático, lo que significa que la variable predictora en el modelo es cuadrado nosotros utilizamos un corchete para indicar como un exponente esta es la segunda regresión polinómica de orden con una figura que representa la función el modelo puede ser cúbico que significa que la regresión polinómica es la tercera orden que vemos examinando la figura que la función tiene más variación existe también polinomial de orden superior regresiones cuando un buen ajuste no se ha alcanzado por segunda o tercera orden que podemos ver en las cifras cambian cuando cambia el orden de la regresión polinómica el grado de regresión hace una gran diferencia y puede resultar en un mejor ajuste si se elige el valor correcto en todos los casos la relación entre la variable en el parámetro es siempre lineal vamos a ver un ejemplo de nuestros datos que generamos un modelo de regresión polinomial en python lo hacemos utilizando la función de ajuste de poly en este ejemplo desarrollamos una tercera base de modelo de regresión polinómica que podemos imprimir la forma simbólica modelo para el modelo se da por la siguiente expresión negativa un punto cinco 5 7 X. uno lindo más doscientos cuatro punto ocho punto ocho X. uno cuadrado más ocho mil novecientos sesenta y cinco X. Uno más uno punto tres siete veces a la potencia de cinco podemos tener una regresión lineal polinómica multi-dimensional, la expresión puede ser complicada aquí son sólo algunos de los términos para dos dimensiones de una segunda orden polinomial no puede llevar a cabo este tipo de regresión que utilizamos el pre-procesamiento de tijeras de bibliotecario aprender a crear un objeto de función polinomial el constructor toma el grado de polinomial como parámetro y luego transformamos el características en una función polinómica con el método de transformación de subrayado de ajuste vamos a hacer un ejemplo más intuitivo considerando la aplicación del método que transformamos los datos que ahora tenemos un nuevo conjunto de características que son la versión transformada de nuestras características originales ya que podemos querer normalizar múltiples características como podemos utilizar el módulo de preprocesamiento para simplificar muchas tareas, por ejemplo, podemos estandarizar cada característica simultáneamente escalador estándar que entramos en el objeto de escala del objeto de escala y luego transformamos los datos en un nuevo la escala de datos en una velocidad X. La escala de subrayado hay más métodos de normalización disponibles en la biblioteca de pre-proceso, así como otras transformaciones que podemos simplificar nuestro código mediante la utilización de una biblioteca de canalizaciones hay muchos pasos para obtener una predicción para la transformación polinómica de normalización de ejemplo y regresión lineal que simplificamos el proceso utilizando una interconexión de canalización secuencialmente realiza una serie de transformaciones el último paso lleva a cabo una predicción primero importamos todos los módulos que necesitamos entonces importamos el oleoducto de la biblioteca creamos una lista de los topos el primer elemento en la parte superior contiene el nombre del modelo de estimador que el segundo elemento contiene el constructor de modelo que entramos en la lista en el constructor de oleoductos que ahora tenemos un objeto de interconexión que podemos entrenar la tubería al aplicar el método de tren al objeto de la interconexión también podemos producir una predicción '}],\n",
       " 'word_count': 658,\n",
       " 'character_count': 3871}"
      ]
     },
     "execution_count": 26,
     "metadata": {},
     "output_type": "execute_result"
    }
   ],
   "source": [
    "translation=translation_response.get_result()\n",
    "translation"
   ]
  },
  {
   "cell_type": "markdown",
   "metadata": {},
   "source": [
    "<p>We can obtain the actual translation as a string as follows:</p>"
   ]
  },
  {
   "cell_type": "code",
   "execution_count": 27,
   "metadata": {},
   "outputs": [
    {
     "data": {
      "text/plain": [
       "'en este video vamos a cubrir la regresión polinómica y los oleoductos, lo que hacemos cuando un modelo lineal no es el mejor ajuste para nuestros datos, examinemos otro tipo de regresión la regresión polinómica que transformamos nuestros datos en un polinomio entonces utilizar regresión lineal para ajustar los parámetros que vamos a discutir los oleoductos es la manera de simplificar su regresión polinómica de código es un caso especial de la regresión lineal general este método es beneficioso para describir las relaciones curvilinas qué es una relación curvilínea que es lo que obtienes al cuadrar o establecer el orden superior los términos de las variables predictoras en el modelo que transforman los datos el modelo puede ser cuadrático, lo que significa que la variable predictora en el modelo es cuadrado nosotros utilizamos un corchete para indicar como un exponente esta es la segunda regresión polinómica de orden con una figura que representa la función el modelo puede ser cúbico que significa que la regresión polinómica es la tercera orden que vemos examinando la figura que la función tiene más variación existe también polinomial de orden superior regresiones cuando un buen ajuste no se ha alcanzado por segunda o tercera orden que podemos ver en las cifras cambian cuando cambia el orden de la regresión polinómica el grado de regresión hace una gran diferencia y puede resultar en un mejor ajuste si se elige el valor correcto en todos los casos la relación entre la variable en el parámetro es siempre lineal vamos a ver un ejemplo de nuestros datos que generamos un modelo de regresión polinomial en python lo hacemos utilizando la función de ajuste de poly en este ejemplo desarrollamos una tercera base de modelo de regresión polinómica que podemos imprimir la forma simbólica modelo para el modelo se da por la siguiente expresión negativa un punto cinco 5 7 X. uno lindo más doscientos cuatro punto ocho punto ocho X. uno cuadrado más ocho mil novecientos sesenta y cinco X. Uno más uno punto tres siete veces a la potencia de cinco podemos tener una regresión lineal polinómica multi-dimensional, la expresión puede ser complicada aquí son sólo algunos de los términos para dos dimensiones de una segunda orden polinomial no puede llevar a cabo este tipo de regresión que utilizamos el pre-procesamiento de tijeras de bibliotecario aprender a crear un objeto de función polinomial el constructor toma el grado de polinomial como parámetro y luego transformamos el características en una función polinómica con el método de transformación de subrayado de ajuste vamos a hacer un ejemplo más intuitivo considerando la aplicación del método que transformamos los datos que ahora tenemos un nuevo conjunto de características que son la versión transformada de nuestras características originales ya que podemos querer normalizar múltiples características como podemos utilizar el módulo de preprocesamiento para simplificar muchas tareas, por ejemplo, podemos estandarizar cada característica simultáneamente escalador estándar que entramos en el objeto de escala del objeto de escala y luego transformamos los datos en un nuevo la escala de datos en una velocidad X. La escala de subrayado hay más métodos de normalización disponibles en la biblioteca de pre-proceso, así como otras transformaciones que podemos simplificar nuestro código mediante la utilización de una biblioteca de canalizaciones hay muchos pasos para obtener una predicción para la transformación polinómica de normalización de ejemplo y regresión lineal que simplificamos el proceso utilizando una interconexión de canalización secuencialmente realiza una serie de transformaciones el último paso lleva a cabo una predicción primero importamos todos los módulos que necesitamos entonces importamos el oleoducto de la biblioteca creamos una lista de los topos el primer elemento en la parte superior contiene el nombre del modelo de estimador que el segundo elemento contiene el constructor de modelo que entramos en la lista en el constructor de oleoductos que ahora tenemos un objeto de interconexión que podemos entrenar la tubería al aplicar el método de tren al objeto de la interconexión también podemos producir una predicción '"
      ]
     },
     "execution_count": 27,
     "metadata": {},
     "output_type": "execute_result"
    }
   ],
   "source": [
    "spanish_translation =translation['translations'][0]['translation']\n",
    "spanish_translation "
   ]
  },
  {
   "cell_type": "markdown",
   "metadata": {},
   "source": [
    "<p>We can translate back to English</p>"
   ]
  },
  {
   "cell_type": "code",
   "execution_count": 28,
   "metadata": {},
   "outputs": [],
   "source": [
    "translation_new = language_translator.translate(text=spanish_translation ,model_id='es-en').get_result()"
   ]
  },
  {
   "cell_type": "markdown",
   "metadata": {},
   "source": [
    "<p>We can obtain the actual translation as a string as follows:</p>"
   ]
  },
  {
   "cell_type": "code",
   "execution_count": 29,
   "metadata": {},
   "outputs": [
    {
     "data": {
      "text/plain": [
       "'In this video we are going to cover the polynomial regression and the pipelines, what we do when a linear model is not the best fit for our data, we examine another kind of regression polynomial regression that we transform our data into a polynomial then use linear regression to adjust the parameters that we will discuss the pipelines is the way to simplify its polynomial code regression is a special case of general linear regression this method is beneficial to to describe curvilinear relationships what is a curvilinear relationship that you get by squaring or setting the order higher the terms of the predictor variables in the model that transform the model can be quadratic, which means that the predictor variable in the model is square we use a square to indicate as an exponent this is the second polynomial regression with a figure representing the model can be cubic that means that the polynomial regression is the third order that we see examining the figure that the figure function has more variation there is also a higher order polynomial regression when a good setting has not been reached by second or third order that we can see in the figures change when the regression order changes the degree of regression makes a great difference and it can result in a better setting if the correct value is chosen in all cases the relationship between the variable in the parameter is always linear we will see an example of our data that we generate a polynomial regression model in python we do using the poly tuning function in this example developed a third polynomial regression model base that we can print the model symbolic form for the model is given by the following negative expression one point five 5 7 X. one nice plus two dots four point eight point eight X. One square plus eight thousand nine hundred and five X. One plus one point three seven times to the power of five can have a multidimensional polynomial linear regression, the expression can be complicated here are just some of the terms for two dimensions of a second polynomial order cannot carry out this kind of regression that we used the pre-processing of library scissors to learn how to create a object of polynomial function the constructor takes the degree of polynomial as a parameter and then transform the characteristics into a polynomial function with the method of underscore transformation we will make a more intuitive example considering the application of the method that we transform the data that we now have a new set of characteristics that are the transformed version of our original features since we may want to normalize multiple characteristics as we can use the preprocessing module to simplify many tasks, for example, we can standardize each standard scaler feature that we enter into the scale object of the scale object and then transform the data into a new scale of data at an X rate. The underscore scale has more normalization methods available in the pre-processing library, as well as other transformations that we can simplify our code by using a library of pipelines are many steps to get a prediction for the sample normalization polynomial transformation and linear regression that simplifies the process using a pipe interconnection sequentially makes a series of transformations the last step carries out a prediction first we import all the modules that we need then we import the pipeline from the library we create a list of the topos the first element at the top contains the name of the estimator model that the second element contains the model builder that we enter into the list in the constructor of pipelines that we now have an interconnection object that we can train the tubing when applying the train method to the object of the pipeline can also produce a prediction '"
      ]
     },
     "execution_count": 29,
     "metadata": {},
     "output_type": "execute_result"
    }
   ],
   "source": [
    "translation_eng=translation_new['translations'][0]['translation']\n",
    "translation_eng"
   ]
  },
  {
   "cell_type": "markdown",
   "metadata": {},
   "source": [
    "<p>We can convert it to french as well:</p>"
   ]
  },
  {
   "cell_type": "code",
   "execution_count": 30,
   "metadata": {},
   "outputs": [],
   "source": [
    "French_translation=language_translator.translate(\n",
    "    text=translation_eng , model_id='en-fr').get_result()"
   ]
  },
  {
   "cell_type": "code",
   "execution_count": 31,
   "metadata": {},
   "outputs": [
    {
     "data": {
      "text/plain": [
       "\"Dans cette vidéo, nous allons couvrir la régression polynomiale et les pipelines, ce que nous faisons quand un modèle linéaire n'est pas le meilleur ajustement pour nos données, nous examinons une autre sorte de régression polynomiale de régression que nous transformons nos données en polynôme puis utiliser la régression linéaire pour ajuster les paramètres que nous allons discuter des pipelines est la façon de simplifier sa régression polynomiale est un cas particulier de régression linéaire générale cette méthode est bénéfique pour décrire les relations curvilignes Est une relation curvilinéaire que vous obtenez par la quadrature ou la configuration de la commande Les termes des variables prédictives dans le modèle qui transforment le modèle peuvent être quadratiques, ce qui signifie que la variable prédictive dans le modèle est carrée nous utilisons un carré pour indiquer comme un exposant c'est la seconde régression polynomiale avec une figure représentant le modèle peut être cubique, ce qui signifie que la régression polynomiale est le troisième ordre que nous voyons examiner la figure que la fonction de la figure a plus de variation il y a aussi une régression polynomiale de l'ordre plus élevé quand un bon paramètre n'a pas été Atteinte par le deuxième ou le troisième ordre que nous pouvons voir dans les chiffres changent lorsque l'ordre de régression Modifie le degré de régression fait une grande différence et peut donner lieu à un meilleur paramètre si la valeur correcte est choisie dans tous les cas la relation entre la variable dans le paramètre est toujours linéaire nous allons voir un exemple de nos données que nous générons un modèle de régression polynomiale en python que nous utilisons dans cet exemple a développé une troisième base de modèle de régression polynomiale que nous pouvons imprimer le modèle de formulaire symbolique pour le modèle est donné par l'expression négative suivante Un point cinq 5 7 X. Un joli plus deux points quatre points huit points huit X. Un carré plus huit Un plus un point trois sept fois à la puissance de cinq peut avoir une régression linéaire polynomiale multidimensionnelle, l'expression peut être compliquée ici sont juste quelques termes pour deux dimensions d'un second ordre polynomial ne peuvent pas réaliser ce type de régression que nous avons utilisé le pré-traitement des ciseaux de bibliothèque pour apprendre comment créer un objet de fonction polynomiale le constructeur prend le degré de polynôme comme paramètre puis transformer le Caractéristiques en fonction polynomiale avec la méthode de la transformation de soulignement que nous allons faire Un exemple plus intuitif considérant l'application de la méthode que nous transformons les données que nous avons maintenant un nouvel ensemble de caractéristiques qui sont la version transformée de nos fonctionnalités d'origine puisque nous pouvons vouloir normaliser plusieurs caractéristiques car nous pouvons utiliser le module de prétraitement pour simplifier de nombreuses tâches, par exemple, nous pouvons standardiser chaque fonction scalaire standard que nous entrons dans l'objet d'échelle de l'objet d'échelle, puis transformer les données en une nouvelle échelle de données à un taux X. L'échelle de trait de soulignement a plus de méthodes de normalisation disponibles dans la bibliothèque de pré-traitement, ainsi que d'autres transformations que nous pouvons simplifier notre code en utilisant une bibliothèque de pipelines sont de nombreuses étapes pour obtenir une prédiction pour la transformation polynomiale de normalisation de l'échantillon et la régression linéaire qui simplifie le processus à l'aide d'une interconnexion de tubes séquentiellement fait une série de transformations la dernière étape réalise une prédiction d'abord que nous importons tous les modules dont nous avons besoin, alors nous importons le Pipeline depuis la bibliothèque, nous créons une liste des topos le premier élément en haut Contient le nom du modèle estimateur que le second élément contient le générateur de modèle que nous entrons dans la liste dans le constructeur des pipelines que nous avons maintenant un objet d'interconnexion que nous pouvons former le tube lors de l'application de la méthode de train à l'objet du pipeline peut aussi produire une prédiction \""
      ]
     },
     "execution_count": 31,
     "metadata": {},
     "output_type": "execute_result"
    }
   ],
   "source": [
    "French_translation['translations'][0]['translation']"
   ]
  },
  {
   "cell_type": "markdown",
   "metadata": {},
   "source": [
    "<h3>Language Translator</h3>"
   ]
  },
  {
   "cell_type": "markdown",
   "metadata": {},
   "source": [
    "<b>References</b>"
   ]
  },
  {
   "cell_type": "markdown",
   "metadata": {},
   "source": [
    "https://cloud.ibm.com/apidocs/speech-to-text?code=python"
   ]
  },
  {
   "cell_type": "markdown",
   "metadata": {},
   "source": [
    "https://cloud.ibm.com/apidocs/language-translator?code=python"
   ]
  },
  {
   "cell_type": "markdown",
   "metadata": {},
   "source": [
    "<hr>"
   ]
  },
  {
   "cell_type": "markdown",
   "metadata": {},
   "source": [
    "<h4>About the Author:</h4>\n",
    "<p><a href=\"https://www.linkedin.com/in/joseph-s-50398b136/\">Joseph Santarcangelo</a> has a PhD in Electrical Engineering, his research focused on using machine learning, signal processing, and computer vision to determine how videos impact human cognition. Joseph has been working for IBM since he completed his PhD.</p>"
   ]
  },
  {
   "cell_type": "markdown",
   "metadata": {},
   "source": [
    "Other contributor: <a href=\"https://www.linkedin.com/in/fanjiang0619/\">Fan Jiang</a>"
   ]
  },
  {
   "cell_type": "markdown",
   "metadata": {},
   "source": [
    "Copyright &copy; 2019 [cognitiveclass.ai](https:cognitiveclass.ai). This notebook and its source code are released under the terms of the [MIT License](cognitiveclass.ai)."
   ]
  },
  {
   "cell_type": "code",
   "execution_count": null,
   "metadata": {},
   "outputs": [],
   "source": []
  }
 ],
 "metadata": {
  "kernelspec": {
   "display_name": "Python 3",
   "language": "python",
   "name": "python3"
  },
  "language_info": {
   "codemirror_mode": {
    "name": "ipython",
    "version": 3
   },
   "file_extension": ".py",
   "mimetype": "text/x-python",
   "name": "python",
   "nbconvert_exporter": "python",
   "pygments_lexer": "ipython3",
   "version": "3.7.6"
  }
 },
 "nbformat": 4,
 "nbformat_minor": 4
}
